{
 "cells": [
  {
   "cell_type": "markdown",
   "metadata": {},
   "source": [
    "#                LetsGrowMore ( Data Science Internship )\n",
    "#### Stock Market Prediction And Forecasting Using Stacked LSTM (Beginner Level Task)\n",
    "## Yash Mathur\n",
    "##### Dataset Link - https://raw.githubusercontent.com/mwitiderrick/stockprice/master/NSE-TATAGLOBAL.csv"
   ]
  },
  {
   "cell_type": "markdown",
   "metadata": {},
   "source": [
    "#### Importing the necessary libraries"
   ]
  },
  {
   "cell_type": "code",
   "execution_count": 35,
   "metadata": {},
   "outputs": [],
   "source": [
    "import matplotlib.pyplot as plt\n",
    "import numpy as np \n",
    "import pandas as pd\n",
    "import warnings\n",
    "warnings.filterwarnings('ignore')"
   ]
  },
  {
   "cell_type": "markdown",
   "metadata": {},
   "source": [
    "#### Reading the dataset from the link "
   ]
  },
  {
   "cell_type": "code",
   "execution_count": 6,
   "metadata": {},
   "outputs": [],
   "source": [
    "url='https://raw.githubusercontent.com/mwitiderrick/stockprice/master/NSE-TATAGLOBAL.csv'\n",
    "dataset=pd.read_csv(url,index_col=0)"
   ]
  },
  {
   "cell_type": "code",
   "execution_count": 7,
   "metadata": {},
   "outputs": [
    {
     "data": {
      "text/html": [
       "<div>\n",
       "<style scoped>\n",
       "    .dataframe tbody tr th:only-of-type {\n",
       "        vertical-align: middle;\n",
       "    }\n",
       "\n",
       "    .dataframe tbody tr th {\n",
       "        vertical-align: top;\n",
       "    }\n",
       "\n",
       "    .dataframe thead th {\n",
       "        text-align: right;\n",
       "    }\n",
       "</style>\n",
       "<table border=\"1\" class=\"dataframe\">\n",
       "  <thead>\n",
       "    <tr style=\"text-align: right;\">\n",
       "      <th></th>\n",
       "      <th>Open</th>\n",
       "      <th>High</th>\n",
       "      <th>Low</th>\n",
       "      <th>Last</th>\n",
       "      <th>Close</th>\n",
       "      <th>Total Trade Quantity</th>\n",
       "      <th>Turnover (Lacs)</th>\n",
       "    </tr>\n",
       "    <tr>\n",
       "      <th>Date</th>\n",
       "      <th></th>\n",
       "      <th></th>\n",
       "      <th></th>\n",
       "      <th></th>\n",
       "      <th></th>\n",
       "      <th></th>\n",
       "      <th></th>\n",
       "    </tr>\n",
       "  </thead>\n",
       "  <tbody>\n",
       "    <tr>\n",
       "      <th>2018-09-28</th>\n",
       "      <td>234.05</td>\n",
       "      <td>235.95</td>\n",
       "      <td>230.20</td>\n",
       "      <td>233.50</td>\n",
       "      <td>233.75</td>\n",
       "      <td>3069914</td>\n",
       "      <td>7162.35</td>\n",
       "    </tr>\n",
       "    <tr>\n",
       "      <th>2018-09-27</th>\n",
       "      <td>234.55</td>\n",
       "      <td>236.80</td>\n",
       "      <td>231.10</td>\n",
       "      <td>233.80</td>\n",
       "      <td>233.25</td>\n",
       "      <td>5082859</td>\n",
       "      <td>11859.95</td>\n",
       "    </tr>\n",
       "    <tr>\n",
       "      <th>2018-09-26</th>\n",
       "      <td>240.00</td>\n",
       "      <td>240.00</td>\n",
       "      <td>232.50</td>\n",
       "      <td>235.00</td>\n",
       "      <td>234.25</td>\n",
       "      <td>2240909</td>\n",
       "      <td>5248.60</td>\n",
       "    </tr>\n",
       "    <tr>\n",
       "      <th>2018-09-25</th>\n",
       "      <td>233.30</td>\n",
       "      <td>236.75</td>\n",
       "      <td>232.00</td>\n",
       "      <td>236.25</td>\n",
       "      <td>236.10</td>\n",
       "      <td>2349368</td>\n",
       "      <td>5503.90</td>\n",
       "    </tr>\n",
       "    <tr>\n",
       "      <th>2018-09-24</th>\n",
       "      <td>233.55</td>\n",
       "      <td>239.20</td>\n",
       "      <td>230.75</td>\n",
       "      <td>234.00</td>\n",
       "      <td>233.30</td>\n",
       "      <td>3423509</td>\n",
       "      <td>7999.55</td>\n",
       "    </tr>\n",
       "    <tr>\n",
       "      <th>...</th>\n",
       "      <td>...</td>\n",
       "      <td>...</td>\n",
       "      <td>...</td>\n",
       "      <td>...</td>\n",
       "      <td>...</td>\n",
       "      <td>...</td>\n",
       "      <td>...</td>\n",
       "    </tr>\n",
       "    <tr>\n",
       "      <th>2010-07-27</th>\n",
       "      <td>117.60</td>\n",
       "      <td>119.50</td>\n",
       "      <td>112.00</td>\n",
       "      <td>118.80</td>\n",
       "      <td>118.65</td>\n",
       "      <td>586100</td>\n",
       "      <td>694.98</td>\n",
       "    </tr>\n",
       "    <tr>\n",
       "      <th>2010-07-26</th>\n",
       "      <td>120.10</td>\n",
       "      <td>121.00</td>\n",
       "      <td>117.10</td>\n",
       "      <td>117.10</td>\n",
       "      <td>117.60</td>\n",
       "      <td>658440</td>\n",
       "      <td>780.01</td>\n",
       "    </tr>\n",
       "    <tr>\n",
       "      <th>2010-07-23</th>\n",
       "      <td>121.80</td>\n",
       "      <td>121.95</td>\n",
       "      <td>120.25</td>\n",
       "      <td>120.35</td>\n",
       "      <td>120.65</td>\n",
       "      <td>281312</td>\n",
       "      <td>340.31</td>\n",
       "    </tr>\n",
       "    <tr>\n",
       "      <th>2010-07-22</th>\n",
       "      <td>120.30</td>\n",
       "      <td>122.00</td>\n",
       "      <td>120.25</td>\n",
       "      <td>120.75</td>\n",
       "      <td>120.90</td>\n",
       "      <td>293312</td>\n",
       "      <td>355.17</td>\n",
       "    </tr>\n",
       "    <tr>\n",
       "      <th>2010-07-21</th>\n",
       "      <td>122.10</td>\n",
       "      <td>123.00</td>\n",
       "      <td>121.05</td>\n",
       "      <td>121.10</td>\n",
       "      <td>121.55</td>\n",
       "      <td>658666</td>\n",
       "      <td>803.56</td>\n",
       "    </tr>\n",
       "  </tbody>\n",
       "</table>\n",
       "<p>2035 rows × 7 columns</p>\n",
       "</div>"
      ],
      "text/plain": [
       "              Open    High     Low    Last   Close  Total Trade Quantity  \\\n",
       "Date                                                                       \n",
       "2018-09-28  234.05  235.95  230.20  233.50  233.75               3069914   \n",
       "2018-09-27  234.55  236.80  231.10  233.80  233.25               5082859   \n",
       "2018-09-26  240.00  240.00  232.50  235.00  234.25               2240909   \n",
       "2018-09-25  233.30  236.75  232.00  236.25  236.10               2349368   \n",
       "2018-09-24  233.55  239.20  230.75  234.00  233.30               3423509   \n",
       "...            ...     ...     ...     ...     ...                   ...   \n",
       "2010-07-27  117.60  119.50  112.00  118.80  118.65                586100   \n",
       "2010-07-26  120.10  121.00  117.10  117.10  117.60                658440   \n",
       "2010-07-23  121.80  121.95  120.25  120.35  120.65                281312   \n",
       "2010-07-22  120.30  122.00  120.25  120.75  120.90                293312   \n",
       "2010-07-21  122.10  123.00  121.05  121.10  121.55                658666   \n",
       "\n",
       "            Turnover (Lacs)  \n",
       "Date                         \n",
       "2018-09-28          7162.35  \n",
       "2018-09-27         11859.95  \n",
       "2018-09-26          5248.60  \n",
       "2018-09-25          5503.90  \n",
       "2018-09-24          7999.55  \n",
       "...                     ...  \n",
       "2010-07-27           694.98  \n",
       "2010-07-26           780.01  \n",
       "2010-07-23           340.31  \n",
       "2010-07-22           355.17  \n",
       "2010-07-21           803.56  \n",
       "\n",
       "[2035 rows x 7 columns]"
      ]
     },
     "execution_count": 7,
     "metadata": {},
     "output_type": "execute_result"
    }
   ],
   "source": [
    "dataset"
   ]
  },
  {
   "cell_type": "markdown",
   "metadata": {},
   "source": [
    "#### Plotting the graph of open price"
   ]
  },
  {
   "cell_type": "code",
   "execution_count": 9,
   "metadata": {},
   "outputs": [
    {
     "data": {
      "text/plain": [
       "<AxesSubplot:xlabel='Date'>"
      ]
     },
     "execution_count": 9,
     "metadata": {},
     "output_type": "execute_result"
    },
    {
     "data": {
      "image/png": "[encoded data removed]",
      "text/plain": [
       "<Figure size 1080x360 with 1 Axes>"
      ]
     },
     "metadata": {
      "needs_background": "light"
     },
     "output_type": "display_data"
    }
   ],
   "source": [
    "dataset['Open'].plot(figsize=(15,5))"
   ]
  },
  {
   "cell_type": "code",
   "execution_count": 10,
   "metadata": {},
   "outputs": [
    {
     "data": {
      "text/plain": [
       "(2035, 7)"
      ]
     },
     "execution_count": 10,
     "metadata": {},
     "output_type": "execute_result"
    }
   ],
   "source": [
    "dataset.shape"
   ]
  },
  {
   "cell_type": "markdown",
   "metadata": {},
   "source": [
    "#### Seperating the data for training and testing purpose"
   ]
  },
  {
   "cell_type": "code",
   "execution_count": 11,
   "metadata": {},
   "outputs": [],
   "source": [
    "dataset_training=dataset.iloc[:int(len(dataset)*0.75), ]\n",
    "dataset_testing=dataset.iloc[int(len(dataset)*0.75):, ]"
   ]
  },
  {
   "cell_type": "code",
   "execution_count": 14,
   "metadata": {},
   "outputs": [
    {
     "name": "stdout",
     "output_type": "stream",
     "text": [
      "Training dataset shape (1526, 7)\n",
      "Testing dataset shape (509, 7)\n"
     ]
    }
   ],
   "source": [
    "print('Training dataset shape',dataset_training.shape)\n",
    "print('Testing dataset shape',dataset_testing.shape)"
   ]
  },
  {
   "cell_type": "code",
   "execution_count": 15,
   "metadata": {},
   "outputs": [
    {
     "data": {
      "text/html": [
       "<div>\n",
       "<style scoped>\n",
       "    .dataframe tbody tr th:only-of-type {\n",
       "        vertical-align: middle;\n",
       "    }\n",
       "\n",
       "    .dataframe tbody tr th {\n",
       "        vertical-align: top;\n",
       "    }\n",
       "\n",
       "    .dataframe thead th {\n",
       "        text-align: right;\n",
       "    }\n",
       "</style>\n",
       "<table border=\"1\" class=\"dataframe\">\n",
       "  <thead>\n",
       "    <tr style=\"text-align: right;\">\n",
       "      <th></th>\n",
       "      <th>Open</th>\n",
       "      <th>High</th>\n",
       "      <th>Low</th>\n",
       "      <th>Last</th>\n",
       "      <th>Close</th>\n",
       "      <th>Total Trade Quantity</th>\n",
       "      <th>Turnover (Lacs)</th>\n",
       "    </tr>\n",
       "    <tr>\n",
       "      <th>Date</th>\n",
       "      <th></th>\n",
       "      <th></th>\n",
       "      <th></th>\n",
       "      <th></th>\n",
       "      <th></th>\n",
       "      <th></th>\n",
       "      <th></th>\n",
       "    </tr>\n",
       "  </thead>\n",
       "  <tbody>\n",
       "    <tr>\n",
       "      <th>2018-09-28</th>\n",
       "      <td>234.05</td>\n",
       "      <td>235.95</td>\n",
       "      <td>230.20</td>\n",
       "      <td>233.50</td>\n",
       "      <td>233.75</td>\n",
       "      <td>3069914</td>\n",
       "      <td>7162.35</td>\n",
       "    </tr>\n",
       "    <tr>\n",
       "      <th>2018-09-27</th>\n",
       "      <td>234.55</td>\n",
       "      <td>236.80</td>\n",
       "      <td>231.10</td>\n",
       "      <td>233.80</td>\n",
       "      <td>233.25</td>\n",
       "      <td>5082859</td>\n",
       "      <td>11859.95</td>\n",
       "    </tr>\n",
       "    <tr>\n",
       "      <th>2018-09-26</th>\n",
       "      <td>240.00</td>\n",
       "      <td>240.00</td>\n",
       "      <td>232.50</td>\n",
       "      <td>235.00</td>\n",
       "      <td>234.25</td>\n",
       "      <td>2240909</td>\n",
       "      <td>5248.60</td>\n",
       "    </tr>\n",
       "    <tr>\n",
       "      <th>2018-09-25</th>\n",
       "      <td>233.30</td>\n",
       "      <td>236.75</td>\n",
       "      <td>232.00</td>\n",
       "      <td>236.25</td>\n",
       "      <td>236.10</td>\n",
       "      <td>2349368</td>\n",
       "      <td>5503.90</td>\n",
       "    </tr>\n",
       "    <tr>\n",
       "      <th>2018-09-24</th>\n",
       "      <td>233.55</td>\n",
       "      <td>239.20</td>\n",
       "      <td>230.75</td>\n",
       "      <td>234.00</td>\n",
       "      <td>233.30</td>\n",
       "      <td>3423509</td>\n",
       "      <td>7999.55</td>\n",
       "    </tr>\n",
       "    <tr>\n",
       "      <th>...</th>\n",
       "      <td>...</td>\n",
       "      <td>...</td>\n",
       "      <td>...</td>\n",
       "      <td>...</td>\n",
       "      <td>...</td>\n",
       "      <td>...</td>\n",
       "      <td>...</td>\n",
       "    </tr>\n",
       "    <tr>\n",
       "      <th>2012-08-03</th>\n",
       "      <td>129.45</td>\n",
       "      <td>132.25</td>\n",
       "      <td>129.10</td>\n",
       "      <td>130.85</td>\n",
       "      <td>131.15</td>\n",
       "      <td>2754756</td>\n",
       "      <td>3612.75</td>\n",
       "    </tr>\n",
       "    <tr>\n",
       "      <th>2012-08-02</th>\n",
       "      <td>125.95</td>\n",
       "      <td>130.90</td>\n",
       "      <td>125.95</td>\n",
       "      <td>130.30</td>\n",
       "      <td>130.05</td>\n",
       "      <td>3704533</td>\n",
       "      <td>4800.89</td>\n",
       "    </tr>\n",
       "    <tr>\n",
       "      <th>2012-08-01</th>\n",
       "      <td>126.70</td>\n",
       "      <td>129.30</td>\n",
       "      <td>126.20</td>\n",
       "      <td>127.35</td>\n",
       "      <td>127.05</td>\n",
       "      <td>1645936</td>\n",
       "      <td>2105.27</td>\n",
       "    </tr>\n",
       "    <tr>\n",
       "      <th>2012-07-31</th>\n",
       "      <td>120.00</td>\n",
       "      <td>128.00</td>\n",
       "      <td>120.00</td>\n",
       "      <td>127.40</td>\n",
       "      <td>127.00</td>\n",
       "      <td>3491456</td>\n",
       "      <td>4418.68</td>\n",
       "    </tr>\n",
       "    <tr>\n",
       "      <th>2012-07-30</th>\n",
       "      <td>121.00</td>\n",
       "      <td>123.35</td>\n",
       "      <td>119.15</td>\n",
       "      <td>122.75</td>\n",
       "      <td>122.65</td>\n",
       "      <td>1301962</td>\n",
       "      <td>1587.04</td>\n",
       "    </tr>\n",
       "  </tbody>\n",
       "</table>\n",
       "<p>1526 rows × 7 columns</p>\n",
       "</div>"
      ],
      "text/plain": [
       "              Open    High     Low    Last   Close  Total Trade Quantity  \\\n",
       "Date                                                                       \n",
       "2018-09-28  234.05  235.95  230.20  233.50  233.75               3069914   \n",
       "2018-09-27  234.55  236.80  231.10  233.80  233.25               5082859   \n",
       "2018-09-26  240.00  240.00  232.50  235.00  234.25               2240909   \n",
       "2018-09-25  233.30  236.75  232.00  236.25  236.10               2349368   \n",
       "2018-09-24  233.55  239.20  230.75  234.00  233.30               3423509   \n",
       "...            ...     ...     ...     ...     ...                   ...   \n",
       "2012-08-03  129.45  132.25  129.10  130.85  131.15               2754756   \n",
       "2012-08-02  125.95  130.90  125.95  130.30  130.05               3704533   \n",
       "2012-08-01  126.70  129.30  126.20  127.35  127.05               1645936   \n",
       "2012-07-31  120.00  128.00  120.00  127.40  127.00               3491456   \n",
       "2012-07-30  121.00  123.35  119.15  122.75  122.65               1301962   \n",
       "\n",
       "            Turnover (Lacs)  \n",
       "Date                         \n",
       "2018-09-28          7162.35  \n",
       "2018-09-27         11859.95  \n",
       "2018-09-26          5248.60  \n",
       "2018-09-25          5503.90  \n",
       "2018-09-24          7999.55  \n",
       "...                     ...  \n",
       "2012-08-03          3612.75  \n",
       "2012-08-02          4800.89  \n",
       "2012-08-01          2105.27  \n",
       "2012-07-31          4418.68  \n",
       "2012-07-30          1587.04  \n",
       "\n",
       "[1526 rows x 7 columns]"
      ]
     },
     "execution_count": 15,
     "metadata": {},
     "output_type": "execute_result"
    }
   ],
   "source": [
    "dataset_training"
   ]
  },
  {
   "cell_type": "code",
   "execution_count": 69,
   "metadata": {},
   "outputs": [
    {
     "data": {
      "text/html": [
       "<div>\n",
       "<style scoped>\n",
       "    .dataframe tbody tr th:only-of-type {\n",
       "        vertical-align: middle;\n",
       "    }\n",
       "\n",
       "    .dataframe tbody tr th {\n",
       "        vertical-align: top;\n",
       "    }\n",
       "\n",
       "    .dataframe thead th {\n",
       "        text-align: right;\n",
       "    }\n",
       "</style>\n",
       "<table border=\"1\" class=\"dataframe\">\n",
       "  <thead>\n",
       "    <tr style=\"text-align: right;\">\n",
       "      <th></th>\n",
       "      <th>Open</th>\n",
       "      <th>High</th>\n",
       "      <th>Low</th>\n",
       "      <th>Last</th>\n",
       "      <th>Close</th>\n",
       "      <th>Total Trade Quantity</th>\n",
       "      <th>Turnover (Lacs)</th>\n",
       "      <th>Predicted</th>\n",
       "    </tr>\n",
       "    <tr>\n",
       "      <th>Date</th>\n",
       "      <th></th>\n",
       "      <th></th>\n",
       "      <th></th>\n",
       "      <th></th>\n",
       "      <th></th>\n",
       "      <th></th>\n",
       "      <th></th>\n",
       "      <th></th>\n",
       "    </tr>\n",
       "  </thead>\n",
       "  <tbody>\n",
       "    <tr>\n",
       "      <th>2012-07-27</th>\n",
       "      <td>120.0</td>\n",
       "      <td>123.95</td>\n",
       "      <td>119.80</td>\n",
       "      <td>120.65</td>\n",
       "      <td>120.65</td>\n",
       "      <td>2010264</td>\n",
       "      <td>2453.32</td>\n",
       "      <td>121.881409</td>\n",
       "    </tr>\n",
       "    <tr>\n",
       "      <th>2012-07-26</th>\n",
       "      <td>120.0</td>\n",
       "      <td>123.25</td>\n",
       "      <td>119.30</td>\n",
       "      <td>120.00</td>\n",
       "      <td>120.05</td>\n",
       "      <td>2495002</td>\n",
       "      <td>3012.91</td>\n",
       "      <td>119.299698</td>\n",
       "    </tr>\n",
       "    <tr>\n",
       "      <th>2012-07-25</th>\n",
       "      <td>123.0</td>\n",
       "      <td>125.00</td>\n",
       "      <td>119.00</td>\n",
       "      <td>120.65</td>\n",
       "      <td>120.80</td>\n",
       "      <td>2974617</td>\n",
       "      <td>3618.35</td>\n",
       "      <td>117.434944</td>\n",
       "    </tr>\n",
       "    <tr>\n",
       "      <th>2012-07-24</th>\n",
       "      <td>115.0</td>\n",
       "      <td>124.15</td>\n",
       "      <td>115.00</td>\n",
       "      <td>123.00</td>\n",
       "      <td>123.40</td>\n",
       "      <td>4358964</td>\n",
       "      <td>5276.56</td>\n",
       "      <td>116.953857</td>\n",
       "    </tr>\n",
       "    <tr>\n",
       "      <th>2012-07-23</th>\n",
       "      <td>118.0</td>\n",
       "      <td>119.40</td>\n",
       "      <td>115.00</td>\n",
       "      <td>116.00</td>\n",
       "      <td>115.65</td>\n",
       "      <td>871954</td>\n",
       "      <td>1022.95</td>\n",
       "      <td>116.832611</td>\n",
       "    </tr>\n",
       "    <tr>\n",
       "      <th>...</th>\n",
       "      <td>...</td>\n",
       "      <td>...</td>\n",
       "      <td>...</td>\n",
       "      <td>...</td>\n",
       "      <td>...</td>\n",
       "      <td>...</td>\n",
       "      <td>...</td>\n",
       "      <td>...</td>\n",
       "    </tr>\n",
       "    <tr>\n",
       "      <th>2010-07-27</th>\n",
       "      <td>117.6</td>\n",
       "      <td>119.50</td>\n",
       "      <td>112.00</td>\n",
       "      <td>118.80</td>\n",
       "      <td>118.65</td>\n",
       "      <td>586100</td>\n",
       "      <td>694.98</td>\n",
       "      <td>114.711868</td>\n",
       "    </tr>\n",
       "    <tr>\n",
       "      <th>2010-07-26</th>\n",
       "      <td>120.1</td>\n",
       "      <td>121.00</td>\n",
       "      <td>117.10</td>\n",
       "      <td>117.10</td>\n",
       "      <td>117.60</td>\n",
       "      <td>658440</td>\n",
       "      <td>780.01</td>\n",
       "      <td>114.054962</td>\n",
       "    </tr>\n",
       "    <tr>\n",
       "      <th>2010-07-23</th>\n",
       "      <td>121.8</td>\n",
       "      <td>121.95</td>\n",
       "      <td>120.25</td>\n",
       "      <td>120.35</td>\n",
       "      <td>120.65</td>\n",
       "      <td>281312</td>\n",
       "      <td>340.31</td>\n",
       "      <td>114.491058</td>\n",
       "    </tr>\n",
       "    <tr>\n",
       "      <th>2010-07-22</th>\n",
       "      <td>120.3</td>\n",
       "      <td>122.00</td>\n",
       "      <td>120.25</td>\n",
       "      <td>120.75</td>\n",
       "      <td>120.90</td>\n",
       "      <td>293312</td>\n",
       "      <td>355.17</td>\n",
       "      <td>116.029427</td>\n",
       "    </tr>\n",
       "    <tr>\n",
       "      <th>2010-07-21</th>\n",
       "      <td>122.1</td>\n",
       "      <td>123.00</td>\n",
       "      <td>121.05</td>\n",
       "      <td>121.10</td>\n",
       "      <td>121.55</td>\n",
       "      <td>658666</td>\n",
       "      <td>803.56</td>\n",
       "      <td>117.856880</td>\n",
       "    </tr>\n",
       "  </tbody>\n",
       "</table>\n",
       "<p>509 rows × 8 columns</p>\n",
       "</div>"
      ],
      "text/plain": [
       "             Open    High     Low    Last   Close  Total Trade Quantity  \\\n",
       "Date                                                                      \n",
       "2012-07-27  120.0  123.95  119.80  120.65  120.65               2010264   \n",
       "2012-07-26  120.0  123.25  119.30  120.00  120.05               2495002   \n",
       "2012-07-25  123.0  125.00  119.00  120.65  120.80               2974617   \n",
       "2012-07-24  115.0  124.15  115.00  123.00  123.40               4358964   \n",
       "2012-07-23  118.0  119.40  115.00  116.00  115.65                871954   \n",
       "...           ...     ...     ...     ...     ...                   ...   \n",
       "2010-07-27  117.6  119.50  112.00  118.80  118.65                586100   \n",
       "2010-07-26  120.1  121.00  117.10  117.10  117.60                658440   \n",
       "2010-07-23  121.8  121.95  120.25  120.35  120.65                281312   \n",
       "2010-07-22  120.3  122.00  120.25  120.75  120.90                293312   \n",
       "2010-07-21  122.1  123.00  121.05  121.10  121.55                658666   \n",
       "\n",
       "            Turnover (Lacs)   Predicted  \n",
       "Date                                     \n",
       "2012-07-27          2453.32  121.881409  \n",
       "2012-07-26          3012.91  119.299698  \n",
       "2012-07-25          3618.35  117.434944  \n",
       "2012-07-24          5276.56  116.953857  \n",
       "2012-07-23          1022.95  116.832611  \n",
       "...                     ...         ...  \n",
       "2010-07-27           694.98  114.711868  \n",
       "2010-07-26           780.01  114.054962  \n",
       "2010-07-23           340.31  114.491058  \n",
       "2010-07-22           355.17  116.029427  \n",
       "2010-07-21           803.56  117.856880  \n",
       "\n",
       "[509 rows x 8 columns]"
      ]
     },
     "execution_count": 69,
     "metadata": {},
     "output_type": "execute_result"
    }
   ],
   "source": [
    "dataset_testing"
   ]
  },
  {
   "cell_type": "code",
   "execution_count": 18,
   "metadata": {},
   "outputs": [
    {
     "data": {
      "text/plain": [
       "array([[234.05],\n",
       "       [234.55],\n",
       "       [240.  ],\n",
       "       ...,\n",
       "       [126.7 ],\n",
       "       [120.  ],\n",
       "       [121.  ]])"
      ]
     },
     "execution_count": 18,
     "metadata": {},
     "output_type": "execute_result"
    }
   ],
   "source": [
    "training_set=dataset_training.iloc[:, 0:1].values\n",
    "training_set"
   ]
  },
  {
   "cell_type": "markdown",
   "metadata": {},
   "source": [
    "#### Scaling the data for the LSTM "
   ]
  },
  {
   "cell_type": "code",
   "execution_count": 19,
   "metadata": {},
   "outputs": [],
   "source": [
    "from sklearn.preprocessing import MinMaxScaler\n",
    "scaler=MinMaxScaler(feature_range=(0,1))\n",
    "training_set_scaled=scaler.fit_transform(training_set)"
   ]
  },
  {
   "cell_type": "code",
   "execution_count": 20,
   "metadata": {},
   "outputs": [
    {
     "data": {
      "text/plain": [
       "array([[0.58322207],\n",
       "       [0.58544726],\n",
       "       [0.60970182],\n",
       "       ...,\n",
       "       [0.10547397],\n",
       "       [0.07565643],\n",
       "       [0.08010681]])"
      ]
     },
     "execution_count": 20,
     "metadata": {},
     "output_type": "execute_result"
    }
   ],
   "source": [
    "training_set_scaled"
   ]
  },
  {
   "cell_type": "markdown",
   "metadata": {},
   "source": [
    "### In LSTM ,we have to take inputs as timestamp and I am taking of 60."
   ]
  },
  {
   "cell_type": "code",
   "execution_count": 21,
   "metadata": {},
   "outputs": [],
   "source": [
    "x_train=[]\n",
    "y_train=[]\n",
    "for i in range(60,len(dataset_training)):\n",
    "    x_train.append(training_set_scaled[i-60:i,0])\n",
    "    y_train.append(training_set_scaled[i, 0])\n",
    "x_train,y_train=np.array(x_train),np.array(y_train)\n"
   ]
  },
  {
   "cell_type": "markdown",
   "metadata": {},
   "source": [
    "#### Reshaping the data to feed into the LSTM model"
   ]
  },
  {
   "cell_type": "code",
   "execution_count": 22,
   "metadata": {},
   "outputs": [],
   "source": [
    "x_train=x_train.reshape(x_train.shape[0],x_train.shape[1],1)"
   ]
  },
  {
   "cell_type": "markdown",
   "metadata": {},
   "source": [
    "### Now, I am importing all the necessary libraries for LSTM and fitting the data into the model"
   ]
  },
  {
   "cell_type": "code",
   "execution_count": 23,
   "metadata": {},
   "outputs": [
    {
     "name": "stdout",
     "output_type": "stream",
     "text": [
      "Epoch 1/100\n",
      "23/23 [==============================] - 8s 108ms/step - loss: 0.0225\n",
      "Epoch 2/100\n",
      "23/23 [==============================] - 2s 101ms/step - loss: 0.0056\n",
      "Epoch 3/100\n",
      "23/23 [==============================] - 2s 100ms/step - loss: 0.0049\n",
      "Epoch 4/100\n",
      "23/23 [==============================] - 2s 98ms/step - loss: 0.0041\n",
      "Epoch 5/100\n",
      "23/23 [==============================] - 2s 97ms/step - loss: 0.0045\n",
      "Epoch 6/100\n",
      "23/23 [==============================] - 2s 95ms/step - loss: 0.0044\n",
      "Epoch 7/100\n",
      "23/23 [==============================] - 2s 96ms/step - loss: 0.0038\n",
      "Epoch 8/100\n",
      "23/23 [==============================] - 2s 97ms/step - loss: 0.0039\n",
      "Epoch 9/100\n",
      "23/23 [==============================] - 2s 97ms/step - loss: 0.0035\n",
      "Epoch 10/100\n",
      "23/23 [==============================] - 2s 96ms/step - loss: 0.0039\n",
      "Epoch 11/100\n",
      "23/23 [==============================] - 2s 97ms/step - loss: 0.0039\n",
      "Epoch 12/100\n",
      "23/23 [==============================] - 2s 98ms/step - loss: 0.0036\n",
      "Epoch 13/100\n",
      "23/23 [==============================] - 2s 98ms/step - loss: 0.0033\n",
      "Epoch 14/100\n",
      "23/23 [==============================] - 2s 96ms/step - loss: 0.0030\n",
      "Epoch 15/100\n",
      "23/23 [==============================] - 2s 95ms/step - loss: 0.0030\n",
      "Epoch 16/100\n",
      "23/23 [==============================] - 2s 98ms/step - loss: 0.0033\n",
      "Epoch 17/100\n",
      "23/23 [==============================] - 2s 96ms/step - loss: 0.0033\n",
      "Epoch 18/100\n",
      "23/23 [==============================] - 2s 96ms/step - loss: 0.0029\n",
      "Epoch 19/100\n",
      "23/23 [==============================] - 2s 99ms/step - loss: 0.0027\n",
      "Epoch 20/100\n",
      "23/23 [==============================] - 2s 97ms/step - loss: 0.0028\n",
      "Epoch 21/100\n",
      "23/23 [==============================] - 2s 96ms/step - loss: 0.0029\n",
      "Epoch 22/100\n",
      "23/23 [==============================] - 2s 97ms/step - loss: 0.0029\n",
      "Epoch 23/100\n",
      "23/23 [==============================] - 2s 97ms/step - loss: 0.0025\n",
      "Epoch 24/100\n",
      "23/23 [==============================] - 2s 97ms/step - loss: 0.0026\n",
      "Epoch 25/100\n",
      "23/23 [==============================] - 2s 101ms/step - loss: 0.0027\n",
      "Epoch 26/100\n",
      "23/23 [==============================] - 2s 97ms/step - loss: 0.0024\n",
      "Epoch 27/100\n",
      "23/23 [==============================] - 2s 100ms/step - loss: 0.0024\n",
      "Epoch 28/100\n",
      "23/23 [==============================] - 2s 97ms/step - loss: 0.0025\n",
      "Epoch 29/100\n",
      "23/23 [==============================] - 2s 96ms/step - loss: 0.0027\n",
      "Epoch 30/100\n",
      "23/23 [==============================] - 2s 97ms/step - loss: 0.0025\n",
      "Epoch 31/100\n",
      "23/23 [==============================] - 2s 96ms/step - loss: 0.0025\n",
      "Epoch 32/100\n",
      "23/23 [==============================] - 2s 97ms/step - loss: 0.0025\n",
      "Epoch 33/100\n",
      "23/23 [==============================] - 2s 97ms/step - loss: 0.0021\n",
      "Epoch 34/100\n",
      "23/23 [==============================] - 2s 107ms/step - loss: 0.0020\n",
      "Epoch 35/100\n",
      "23/23 [==============================] - 2s 98ms/step - loss: 0.0024\n",
      "Epoch 36/100\n",
      "23/23 [==============================] - 2s 97ms/step - loss: 0.0022\n",
      "Epoch 37/100\n",
      "23/23 [==============================] - 2s 96ms/step - loss: 0.0023\n",
      "Epoch 38/100\n",
      "23/23 [==============================] - 2s 96ms/step - loss: 0.0020\n",
      "Epoch 39/100\n",
      "23/23 [==============================] - 2s 96ms/step - loss: 0.0024\n",
      "Epoch 40/100\n",
      "23/23 [==============================] - 2s 96ms/step - loss: 0.0020\n",
      "Epoch 41/100\n",
      "23/23 [==============================] - 2s 98ms/step - loss: 0.0021\n",
      "Epoch 42/100\n",
      "23/23 [==============================] - 2s 97ms/step - loss: 0.0020\n",
      "Epoch 43/100\n",
      "23/23 [==============================] - 2s 97ms/step - loss: 0.0019\n",
      "Epoch 44/100\n",
      "23/23 [==============================] - 2s 99ms/step - loss: 0.0018\n",
      "Epoch 45/100\n",
      "23/23 [==============================] - 3s 123ms/step - loss: 0.0021\n",
      "Epoch 46/100\n",
      "23/23 [==============================] - 3s 116ms/step - loss: 0.0020\n",
      "Epoch 47/100\n",
      "23/23 [==============================] - 2s 96ms/step - loss: 0.0018\n",
      "Epoch 48/100\n",
      "23/23 [==============================] - 2s 98ms/step - loss: 0.0022\n",
      "Epoch 49/100\n",
      "23/23 [==============================] - 2s 101ms/step - loss: 0.0019\n",
      "Epoch 50/100\n",
      "23/23 [==============================] - 2s 100ms/step - loss: 0.0019\n",
      "Epoch 51/100\n",
      "23/23 [==============================] - 2s 95ms/step - loss: 0.0018\n",
      "Epoch 52/100\n",
      "23/23 [==============================] - 2s 96ms/step - loss: 0.0022\n",
      "Epoch 53/100\n",
      "23/23 [==============================] - 2s 95ms/step - loss: 0.0019\n",
      "Epoch 54/100\n",
      "23/23 [==============================] - ETA: 0s - loss: 0.001 - 2s 95ms/step - loss: 0.0017\n",
      "Epoch 55/100\n",
      "23/23 [==============================] - 2s 96ms/step - loss: 0.0017\n",
      "Epoch 56/100\n",
      "23/23 [==============================] - 2s 98ms/step - loss: 0.0016\n",
      "Epoch 57/100\n",
      "23/23 [==============================] - 2s 97ms/step - loss: 0.0016\n",
      "Epoch 58/100\n",
      "23/23 [==============================] - 2s 98ms/step - loss: 0.0018\n",
      "Epoch 59/100\n",
      "23/23 [==============================] - 2s 96ms/step - loss: 0.0017\n",
      "Epoch 60/100\n",
      "23/23 [==============================] - 2s 96ms/step - loss: 0.0019\n",
      "Epoch 61/100\n",
      "23/23 [==============================] - 2s 97ms/step - loss: 0.0015\n",
      "Epoch 62/100\n",
      "23/23 [==============================] - 2s 97ms/step - loss: 0.0015\n",
      "Epoch 63/100\n",
      "23/23 [==============================] - 2s 97ms/step - loss: 0.0016\n",
      "Epoch 64/100\n",
      "23/23 [==============================] - 2s 97ms/step - loss: 0.0015\n",
      "Epoch 65/100\n",
      "23/23 [==============================] - 2s 95ms/step - loss: 0.0019\n",
      "Epoch 66/100\n",
      "23/23 [==============================] - 2s 98ms/step - loss: 0.0015\n",
      "Epoch 67/100\n",
      "23/23 [==============================] - 2s 98ms/step - loss: 0.0016\n",
      "Epoch 68/100\n",
      "23/23 [==============================] - 2s 96ms/step - loss: 0.0015\n",
      "Epoch 69/100\n",
      "23/23 [==============================] - 2s 96ms/step - loss: 0.0014\n",
      "Epoch 70/100\n",
      "23/23 [==============================] - 2s 97ms/step - loss: 0.0014\n",
      "Epoch 71/100\n",
      "23/23 [==============================] - 2s 98ms/step - loss: 0.0013\n",
      "Epoch 72/100\n",
      "23/23 [==============================] - 2s 97ms/step - loss: 0.0013\n",
      "Epoch 73/100\n",
      "23/23 [==============================] - 2s 96ms/step - loss: 0.0014\n",
      "Epoch 74/100\n",
      "23/23 [==============================] - 2s 98ms/step - loss: 0.0018\n",
      "Epoch 75/100\n",
      "23/23 [==============================] - 2s 97ms/step - loss: 0.0014\n",
      "Epoch 76/100\n",
      "23/23 [==============================] - 2s 98ms/step - loss: 0.0014\n",
      "Epoch 77/100\n",
      "23/23 [==============================] - 2s 97ms/step - loss: 0.0012\n",
      "Epoch 78/100\n",
      "23/23 [==============================] - 2s 97ms/step - loss: 0.0013\n",
      "Epoch 79/100\n",
      "23/23 [==============================] - 2s 96ms/step - loss: 0.0012\n",
      "Epoch 80/100\n",
      "23/23 [==============================] - 2s 98ms/step - loss: 0.0013\n",
      "Epoch 81/100\n",
      "23/23 [==============================] - 2s 97ms/step - loss: 0.0015\n",
      "Epoch 82/100\n",
      "23/23 [==============================] - 2s 97ms/step - loss: 0.0014\n",
      "Epoch 83/100\n",
      "23/23 [==============================] - 2s 96ms/step - loss: 0.0013\n",
      "Epoch 84/100\n",
      "23/23 [==============================] - 2s 97ms/step - loss: 0.0014\n",
      "Epoch 85/100\n",
      "23/23 [==============================] - 2s 96ms/step - loss: 0.0011\n",
      "Epoch 86/100\n",
      "23/23 [==============================] - 2s 97ms/step - loss: 0.0015\n",
      "Epoch 87/100\n",
      "23/23 [==============================] - 2s 97ms/step - loss: 0.0013\n",
      "Epoch 88/100\n",
      "23/23 [==============================] - 2s 97ms/step - loss: 0.0015\n",
      "Epoch 89/100\n",
      "23/23 [==============================] - 2s 97ms/step - loss: 0.0014\n",
      "Epoch 90/100\n",
      "23/23 [==============================] - 2s 97ms/step - loss: 0.0013\n",
      "Epoch 91/100\n",
      "23/23 [==============================] - 2s 97ms/step - loss: 0.0013\n",
      "Epoch 92/100\n",
      "23/23 [==============================] - 2s 97ms/step - loss: 0.0017\n",
      "Epoch 93/100\n",
      "23/23 [==============================] - 2s 100ms/step - loss: 0.0013\n",
      "Epoch 94/100\n",
      "23/23 [==============================] - 2s 97ms/step - loss: 0.0013\n",
      "Epoch 95/100\n",
      "23/23 [==============================] - 2s 100ms/step - loss: 0.0012\n",
      "Epoch 96/100\n",
      "23/23 [==============================] - 2s 98ms/step - loss: 0.0012\n",
      "Epoch 97/100\n",
      "23/23 [==============================] - 2s 99ms/step - loss: 0.0011\n",
      "Epoch 98/100\n",
      "23/23 [==============================] - 2s 99ms/step - loss: 0.0012\n",
      "Epoch 99/100\n",
      "23/23 [==============================] - 2s 97ms/step - loss: 0.0011\n",
      "Epoch 100/100\n"
     ]
    },
    {
     "name": "stdout",
     "output_type": "stream",
     "text": [
      "23/23 [==============================] - 2s 96ms/step - loss: 0.0013\n"
     ]
    },
    {
     "data": {
      "text/plain": [
       "<tensorflow.python.keras.callbacks.History at 0x1c9e5ecc340>"
      ]
     },
     "execution_count": 23,
     "metadata": {},
     "output_type": "execute_result"
    }
   ],
   "source": [
    "import tensorflow as tf\n",
    "from tensorflow import keras\n",
    "from tensorflow.keras.models import Sequential\n",
    "from tensorflow.keras.layers import LSTM\n",
    "from tensorflow.keras.layers import Dropout\n",
    "from tensorflow.keras.layers import Dense\n",
    "regressor=Sequential([\n",
    "    LSTM(60,return_sequences=True,input_shape=(x_train.shape[1],1)),\n",
    "    Dropout(0.3),\n",
    "    LSTM(60,return_sequences=True),\n",
    "    Dropout(0.3),\n",
    "    LSTM(60,return_sequences=True),\n",
    "    Dropout(0.3),\n",
    "    LSTM(60,return_sequences=True),\n",
    "    Dropout(0.3),\n",
    "    LSTM(60,return_sequences=False),\n",
    "    Dropout(0.3),\n",
    "    Dense(1)\n",
    "])\n",
    "regressor.compile(optimizer='adam',loss='mean_squared_error')\n",
    "regressor.fit(x_train,y_train,epochs=100,batch_size=64)"
   ]
  },
  {
   "cell_type": "markdown",
   "metadata": {},
   "source": [
    "### Concating the dataset for making the x_test with timestamp as 60"
   ]
  },
  {
   "cell_type": "code",
   "execution_count": 24,
   "metadata": {},
   "outputs": [],
   "source": [
    "dataset_total =pd.concat((dataset_training['Open'],dataset_testing['Open']),axis=0)"
   ]
  },
  {
   "cell_type": "code",
   "execution_count": 26,
   "metadata": {},
   "outputs": [],
   "source": [
    "inputs=dataset_total[len(dataset_total)-len(dataset_testing)-60:].values\n",
    "inputs=inputs.reshape(-1,1)\n",
    "inputs=scaler.transform(inputs)"
   ]
  },
  {
   "cell_type": "code",
   "execution_count": 30,
   "metadata": {},
   "outputs": [],
   "source": [
    "x_test=[]\n",
    "for i in range(60,569):\n",
    "    x_test.append(inputs[i-60:i, 0])\n",
    "x_test=np.array(x_test)"
   ]
  },
  {
   "cell_type": "markdown",
   "metadata": {},
   "source": [
    "#### Reshaping the x_test"
   ]
  },
  {
   "cell_type": "code",
   "execution_count": 31,
   "metadata": {},
   "outputs": [],
   "source": [
    "x_test=x_test.reshape(x_test.shape[0],x_test.shape[1],1)"
   ]
  },
  {
   "cell_type": "markdown",
   "metadata": {},
   "source": [
    "#### Predicting with x_test"
   ]
  },
  {
   "cell_type": "code",
   "execution_count": 32,
   "metadata": {},
   "outputs": [],
   "source": [
    "predicted_stock_price=regressor.predict(x_test)"
   ]
  },
  {
   "cell_type": "markdown",
   "metadata": {},
   "source": [
    "#### Inversing the predicted values"
   ]
  },
  {
   "cell_type": "code",
   "execution_count": 33,
   "metadata": {},
   "outputs": [],
   "source": [
    "predicted_stock_price=scaler.inverse_transform(predicted_stock_price)"
   ]
  },
  {
   "cell_type": "code",
   "execution_count": 48,
   "metadata": {},
   "outputs": [],
   "source": [
    "dataset_testing['Predicted']=predicted_stock_price"
   ]
  },
  {
   "cell_type": "code",
   "execution_count": 58,
   "metadata": {},
   "outputs": [],
   "source": [
    "final_visualization=pd.concat([dataset['Open'],dataset_testing['Open'],dataset_testing['Predicted']],axis=1)"
   ]
  },
  {
   "cell_type": "markdown",
   "metadata": {},
   "source": [
    "### Visualizing the data with training,testing and predicted prices"
   ]
  },
  {
   "cell_type": "code",
   "execution_count": 60,
   "metadata": {},
   "outputs": [
    {
     "data": {
      "text/plain": [
       "<AxesSubplot:>"
      ]
     },
     "execution_count": 60,
     "metadata": {},
     "output_type": "execute_result"
    },
    {
     "data": {
      "image/png": "[encoded data removed]",
      "text/plain": [
       "<Figure size 1080x360 with 1 Axes>"
      ]
     },
     "metadata": {
      "needs_background": "light"
     },
     "output_type": "display_data"
    }
   ],
   "source": [
    "final_visualization.plot(figsize=(15,5))"
   ]
  },
  {
   "cell_type": "markdown",
   "metadata": {},
   "source": [
    "#### Visualizing the data with testing and predicted prices"
   ]
  },
  {
   "cell_type": "code",
   "execution_count": 65,
   "metadata": {},
   "outputs": [
    {
     "data": {
      "text/plain": [
       "<matplotlib.legend.Legend at 0x1c9f9c73b80>"
      ]
     },
     "execution_count": 65,
     "metadata": {},
     "output_type": "execute_result"
    },
    {
     "data": {
      "image/png": "[encoded data removed]",
      "text/plain": [
       "<Figure size 1080x360 with 1 Axes>"
      ]
     },
     "metadata": {
      "needs_background": "light"
     },
     "output_type": "display_data"
    }
   ],
   "source": [
    "plt.figure(figsize=(15,5))\n",
    "dataset_testing['Open'].plot(label='Actual')\n",
    "dataset_testing['Predicted'].plot(label='Predicted')\n",
    "plt.legend()"
   ]
  },
  {
   "cell_type": "code",
   "execution_count": 66,
   "metadata": {},
   "outputs": [],
   "source": [
    "Actual=dataset_testing['Open']\n",
    "Predicted=dataset_testing['Predicted']"
   ]
  },
  {
   "cell_type": "code",
   "execution_count": 67,
   "metadata": {},
   "outputs": [],
   "source": [
    "Dataframe=pd.DataFrame({'Actual':Actual,'Predicted':Predicted})"
   ]
  },
  {
   "cell_type": "markdown",
   "metadata": {},
   "source": [
    "#### Making the dataframe with actual as well as predicted "
   ]
  },
  {
   "cell_type": "code",
   "execution_count": 68,
   "metadata": {},
   "outputs": [
    {
     "data": {
      "text/html": [
       "<div>\n",
       "<style scoped>\n",
       "    .dataframe tbody tr th:only-of-type {\n",
       "        vertical-align: middle;\n",
       "    }\n",
       "\n",
       "    .dataframe tbody tr th {\n",
       "        vertical-align: top;\n",
       "    }\n",
       "\n",
       "    .dataframe thead th {\n",
       "        text-align: right;\n",
       "    }\n",
       "</style>\n",
       "<table border=\"1\" class=\"dataframe\">\n",
       "  <thead>\n",
       "    <tr style=\"text-align: right;\">\n",
       "      <th></th>\n",
       "      <th>Actual</th>\n",
       "      <th>Predicted</th>\n",
       "    </tr>\n",
       "    <tr>\n",
       "      <th>Date</th>\n",
       "      <th></th>\n",
       "      <th></th>\n",
       "    </tr>\n",
       "  </thead>\n",
       "  <tbody>\n",
       "    <tr>\n",
       "      <th>2012-07-27</th>\n",
       "      <td>120.0</td>\n",
       "      <td>121.881409</td>\n",
       "    </tr>\n",
       "    <tr>\n",
       "      <th>2012-07-26</th>\n",
       "      <td>120.0</td>\n",
       "      <td>119.299698</td>\n",
       "    </tr>\n",
       "    <tr>\n",
       "      <th>2012-07-25</th>\n",
       "      <td>123.0</td>\n",
       "      <td>117.434944</td>\n",
       "    </tr>\n",
       "    <tr>\n",
       "      <th>2012-07-24</th>\n",
       "      <td>115.0</td>\n",
       "      <td>116.953857</td>\n",
       "    </tr>\n",
       "    <tr>\n",
       "      <th>2012-07-23</th>\n",
       "      <td>118.0</td>\n",
       "      <td>116.832611</td>\n",
       "    </tr>\n",
       "    <tr>\n",
       "      <th>...</th>\n",
       "      <td>...</td>\n",
       "      <td>...</td>\n",
       "    </tr>\n",
       "    <tr>\n",
       "      <th>2010-07-27</th>\n",
       "      <td>117.6</td>\n",
       "      <td>114.711868</td>\n",
       "    </tr>\n",
       "    <tr>\n",
       "      <th>2010-07-26</th>\n",
       "      <td>120.1</td>\n",
       "      <td>114.054962</td>\n",
       "    </tr>\n",
       "    <tr>\n",
       "      <th>2010-07-23</th>\n",
       "      <td>121.8</td>\n",
       "      <td>114.491058</td>\n",
       "    </tr>\n",
       "    <tr>\n",
       "      <th>2010-07-22</th>\n",
       "      <td>120.3</td>\n",
       "      <td>116.029427</td>\n",
       "    </tr>\n",
       "    <tr>\n",
       "      <th>2010-07-21</th>\n",
       "      <td>122.1</td>\n",
       "      <td>117.856880</td>\n",
       "    </tr>\n",
       "  </tbody>\n",
       "</table>\n",
       "<p>509 rows × 2 columns</p>\n",
       "</div>"
      ],
      "text/plain": [
       "            Actual   Predicted\n",
       "Date                          \n",
       "2012-07-27   120.0  121.881409\n",
       "2012-07-26   120.0  119.299698\n",
       "2012-07-25   123.0  117.434944\n",
       "2012-07-24   115.0  116.953857\n",
       "2012-07-23   118.0  116.832611\n",
       "...            ...         ...\n",
       "2010-07-27   117.6  114.711868\n",
       "2010-07-26   120.1  114.054962\n",
       "2010-07-23   121.8  114.491058\n",
       "2010-07-22   120.3  116.029427\n",
       "2010-07-21   122.1  117.856880\n",
       "\n",
       "[509 rows x 2 columns]"
      ]
     },
     "execution_count": 68,
     "metadata": {},
     "output_type": "execute_result"
    }
   ],
   "source": [
    "Dataframe"
   ]
  },
  {
   "cell_type": "markdown",
   "metadata": {},
   "source": [
    "#### I have implemented this on Open Price , you can implement on any of the above columns."
   ]
  },
  {
   "cell_type": "markdown",
   "metadata": {},
   "source": [
    "# Thank You !"
   ]
  },
  {
   "cell_type": "code",
   "execution_count": null,
   "metadata": {},
   "outputs": [],
   "source": []
  }
 ],
 "metadata": {
  "kernelspec": {
   "display_name": "Python 3",
   "language": "python",
   "name": "python3"
  },
  "language_info": {
   "codemirror_mode": {
    "name": "ipython",
    "version": 3
   },
   "file_extension": ".py",
   "mimetype": "text/x-python",
   "name": "python",
   "nbconvert_exporter": "python",
   "pygments_lexer": "ipython3",
   "version": "3.8.5"
  }
 },
 "nbformat": 4,
 "nbformat_minor": 4
}
